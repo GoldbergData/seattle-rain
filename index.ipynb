{
 "cells": [
  {
   "cell_type": "markdown",
   "metadata": {},
   "source": [
    "---\n",
    "title: My post's title\n",
    "date: 2019-09-01\n",
    "draft: true\n",
    "\n",
    "---"
   ]
  },
  {
   "cell_type": "markdown",
   "metadata": {},
   "source": [
    "# Project 1: Udacity Data Science Nanodegree"
   ]
  },
  {
   "cell_type": "markdown",
   "metadata": {},
   "source": [
    "Choose A Dataset of Your Own\n",
    "\n",
    "You are welcome to use Kaggle or another platform (or your own data) to create a blog and Github post instead of using the datasets discussed above.\n",
    "Key Steps for Project\n",
    "\n",
    "Feel free to be creative with your solutions, but do follow the CRISP-DM process in finding your solutions.\n",
    "\n",
    "1) Pick a dataset.\n",
    "\n",
    "2) Pose at least three questions related to business or real-world applications of how the data could be used.\n",
    "\n",
    "3) Create a Jupyter Notebook, using any associated packages you'd like, to:\n",
    "\n",
    "    Prepare data:\n",
    "        Gather necessary data to answer your questions\n",
    "        Handle categorical and missing data\n",
    "        Provide insight into the methods you chose and why you chose them\n",
    "\n",
    "    Analyze, Model, and Visualize\n",
    "        Provide a clear connection between your business questions and how the data answers them.\n",
    "\n",
    "4) Communicate your business insights:\n",
    "\n",
    "    Create a Github repository to share your code and data wrangling/modeling techniques, with a technical audience in mind\n",
    "    Create a blog post to share your questions and insights with a non-technical audience\n",
    "\n",
    "Your deliverables will be a Github repo and a blog post. Use the rubric here to assist in successfully completing this project!"
   ]
  },
  {
   "cell_type": "code",
   "execution_count": null,
   "metadata": {},
   "outputs": [],
   "source": [
    "import numpy as np\n",
    "import pandas as pd\n",
    "import matplotlib.pyplot as plt\n",
    "from sklearn.linear_model import LinearRegression\n",
    "from sklearn.model_selection import train_test_split\n",
    "from sklearn.metrics import r2_score, mean_squared_error\n",
    "import seaborn as sns\n",
    "%matplotlib inline"
   ]
  }
 ],
 "metadata": {
  "kernelspec": {
   "display_name": "Python 3",
   "language": "python",
   "name": "python3"
  },
  "language_info": {
   "codemirror_mode": {
    "name": "ipython",
    "version": 3
   },
   "file_extension": ".py",
   "mimetype": "text/x-python",
   "name": "python",
   "nbconvert_exporter": "python",
   "pygments_lexer": "ipython3",
   "version": "3.7.1"
  },
  "latex_envs": {
   "LaTeX_envs_menu_present": true,
   "autoclose": false,
   "autocomplete": true,
   "bibliofile": "biblio.bib",
   "cite_by": "apalike",
   "current_citInitial": 1,
   "eqLabelWithNumbers": true,
   "eqNumInitial": 1,
   "hotkeys": {
    "equation": "Ctrl-E",
    "itemize": "Ctrl-I"
   },
   "labels_anchors": false,
   "latex_user_defs": false,
   "report_style_numbering": false,
   "user_envs_cfg": false
  },
  "varInspector": {
   "cols": {
    "lenName": 16,
    "lenType": 16,
    "lenVar": 40
   },
   "kernels_config": {
    "python": {
     "delete_cmd_postfix": "",
     "delete_cmd_prefix": "del ",
     "library": "var_list.py",
     "varRefreshCmd": "print(var_dic_list())"
    },
    "r": {
     "delete_cmd_postfix": ") ",
     "delete_cmd_prefix": "rm(",
     "library": "var_list.r",
     "varRefreshCmd": "cat(var_dic_list()) "
    }
   },
   "oldHeight": 121.73912572860718,
   "position": {
    "height": "40px",
    "left": "1189.1304931640625px",
    "right": "20px",
    "top": "120px",
    "width": "250px"
   },
   "types_to_exclude": [
    "module",
    "function",
    "builtin_function_or_method",
    "instance",
    "_Feature"
   ],
   "varInspector_section_display": "none",
   "window_display": true
  }
 },
 "nbformat": 4,
 "nbformat_minor": 4
}
